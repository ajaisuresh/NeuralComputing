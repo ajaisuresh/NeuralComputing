{
 "cells": [
  {
   "cell_type": "markdown",
   "metadata": {
    "id": "ftVyjmItUtRk"
   },
   "source": [
    "In this tutorial we would like to investigate the impact of changing the various parameters related to a neural network on its performance (both accuracy and runtime).\n",
    "\n",
    "In particular, we would like to investigate the impact of early stopping criterion, weight decay and momentum. We will also be using cross validation methods to obtain results on its performance.\n",
    "\n",
    "We will utilise the skorch library to help us in our investigation. The skorch library allows us to wrap any neural network in a data pipeline, and then allows us to easily set its various parameters (such as the ones mentioned above). In addition the skorch library contain functions that makes it easy to use methods from the sklearn library such as cross validation.\n",
    "\n",
    "The first part of this tutorial focuses on obtaining and perparing the MNIST library, which we will utilise for the experiments in the rest of this tutorial."
   ]
  },
  {
   "cell_type": "code",
   "execution_count": null,
   "metadata": {},
   "outputs": [],
   "source": [
    "from sklearn.datasets import fetch_openml\n",
    "from sklearn.model_selection import train_test_split\n",
    "import numpy as np\n",
    "import matplotlib.pyplot as plt"
   ]
  },
  {
   "cell_type": "markdown",
   "metadata": {
    "id": "YIJQCiTbUtRl"
   },
   "source": [
    "## Loading Data\n",
    "Using SciKit-Learns ```fetch_openml``` to load MNIST data."
   ]
  },
  {
   "cell_type": "code",
   "execution_count": 3,
   "metadata": {
    "id": "12T7NVKpUtRl"
   },
   "outputs": [],
   "source": [
    "mnist = fetch_openml('mnist_784', cache=False)"
   ]
  },
  {
   "cell_type": "code",
   "execution_count": 4,
   "metadata": {
    "colab": {
     "base_uri": "https://localhost:8080/"
    },
    "id": "bgzeLE3iUtRl",
    "outputId": "e32b22d4-5007-4f46-e7ec-96721b8fc20e"
   },
   "outputs": [
    {
     "data": {
      "text/plain": [
       "(70000, 784)"
      ]
     },
     "execution_count": 4,
     "metadata": {
      "tags": []
     },
     "output_type": "execute_result"
    }
   ],
   "source": [
    "mnist.data.shape"
   ]
  },
  {
   "cell_type": "markdown",
   "metadata": {
    "id": "rlYxG07CUtRm"
   },
   "source": [
    "## Preprocessing Data\n",
    "\n",
    "Each image of the MNIST dataset is encoded in a 784 dimensional vector, representing a 28 x 28 pixel image. Each pixel has a value between 0 and 255, corresponding to the grey-value of a pixel.<br />\n",
    "The above ```featch_mldata``` method to load MNIST returns ```data``` and ```target``` as ```uint8``` which we convert to ```float32``` and ```int64``` respectively."
   ]
  },
  {
   "cell_type": "code",
   "execution_count": 5,
   "metadata": {
    "id": "5nLpUnsHUtRm"
   },
   "outputs": [],
   "source": [
    "X = mnist.data.astype('float32')\n",
    "y = mnist.target.astype('int64')"
   ]
  },
  {
   "cell_type": "markdown",
   "metadata": {
    "id": "EyzVxwmsUtRm"
   },
   "source": [
    "To avoid big weights that deal with the pixel values from between [0, 255], we scale `X` down. A commonly used range is [0, 1]."
   ]
  },
  {
   "cell_type": "code",
   "execution_count": 6,
   "metadata": {
    "id": "yPQS54pPUtRn"
   },
   "outputs": [],
   "source": [
    "X /= 255.0\n",
    "# Convert pandas dataframe to numpy array\n",
    "X = X.to_numpy()"
   ]
  },
  {
   "cell_type": "code",
   "execution_count": 7,
   "metadata": {
    "colab": {
     "base_uri": "https://localhost:8080/"
    },
    "id": "DsZ6jF7DUtRn",
    "outputId": "a5309c73-25d8-46e8-f96f-d16fc190d855"
   },
   "outputs": [
    {
     "data": {
      "text/plain": [
       "(0.0, 1.0)"
      ]
     },
     "execution_count": 7,
     "metadata": {
      "tags": []
     },
     "output_type": "execute_result"
    }
   ],
   "source": [
    "X.min(), X.max()"
   ]
  },
  {
   "cell_type": "code",
   "execution_count": 3,
   "metadata": {
    "id": "i-DD7gv6UtRn"
   },
   "outputs": [
    {
     "ename": "NameError",
     "evalue": "name 'train_test_split' is not defined",
     "output_type": "error",
     "traceback": [
      "\u001b[0;31m---------------------------------------------------------------------------\u001b[0m",
      "\u001b[0;31mNameError\u001b[0m                                 Traceback (most recent call last)",
      "\u001b[0;32m/var/folders/s8/tldg532146lgwzgkdn_frdrh0000gn/T/ipykernel_7959/2362437693.py\u001b[0m in \u001b[0;36m<module>\u001b[0;34m\u001b[0m\n\u001b[0;32m----> 1\u001b[0;31m \u001b[0mX_train\u001b[0m\u001b[0;34m,\u001b[0m \u001b[0mX_test\u001b[0m\u001b[0;34m,\u001b[0m \u001b[0my_train\u001b[0m\u001b[0;34m,\u001b[0m \u001b[0my_test\u001b[0m \u001b[0;34m=\u001b[0m \u001b[0mtrain_test_split\u001b[0m\u001b[0;34m(\u001b[0m\u001b[0mX\u001b[0m\u001b[0;34m,\u001b[0m \u001b[0my\u001b[0m\u001b[0;34m,\u001b[0m \u001b[0mtest_size\u001b[0m\u001b[0;34m=\u001b[0m\u001b[0;36m0.25\u001b[0m\u001b[0;34m,\u001b[0m \u001b[0mrandom_state\u001b[0m\u001b[0;34m=\u001b[0m\u001b[0;36m42\u001b[0m\u001b[0;34m)\u001b[0m\u001b[0;34m\u001b[0m\u001b[0;34m\u001b[0m\u001b[0m\n\u001b[0m",
      "\u001b[0;31mNameError\u001b[0m: name 'train_test_split' is not defined"
     ]
    }
   ],
   "source": [
    "X_train, X_test, y_train, y_test = train_test_split(X, y, test_size=0.25, random_state=42)"
   ]
  },
  {
   "cell_type": "code",
   "execution_count": 10,
   "metadata": {
    "colab": {
     "base_uri": "https://localhost:8080/"
    },
    "id": "2oG6Or7cUtRn",
    "outputId": "4c8e2dc8-9c42-4797-812a-b68929c32d61"
   },
   "outputs": [
    {
     "data": {
      "text/plain": [
       "((52500, 784), (52500,))"
      ]
     },
     "execution_count": 10,
     "metadata": {
      "tags": []
     },
     "output_type": "execute_result"
    }
   ],
   "source": [
    "X_train.shape, y_train.shape"
   ]
  },
  {
   "cell_type": "markdown",
   "metadata": {
    "id": "V1FJp0fYUtRo"
   },
   "source": [
    "### Print a selection of training images and their labels"
   ]
  },
  {
   "cell_type": "code",
   "execution_count": 1,
   "metadata": {
    "id": "zopsiBjPUtRo"
   },
   "outputs": [],
   "source": [
    "def plot_example(X, y):\n",
    "    \"\"\"Plot the first 5 images and their labels in a row.\"\"\"\n",
    "    for i, (img, y) in enumerate(zip(X[:5].reshape(5, 28, 28), y[:5])):\n",
    "        plt.subplot(151 + i)\n",
    "        plt.imshow(img)\n",
    "        plt.xticks([])\n",
    "        plt.yticks([])\n",
    "        plt.title(y)"
   ]
  },
  {
   "cell_type": "code",
   "execution_count": 2,
   "metadata": {
    "colab": {
     "base_uri": "https://localhost:8080/",
     "height": 108
    },
    "id": "VkXPG3U1UtRo",
    "outputId": "a3cedceb-ef29-4a63-c20b-b25568555aa8"
   },
   "outputs": [
    {
     "ename": "NameError",
     "evalue": "name 'X_train' is not defined",
     "output_type": "error",
     "traceback": [
      "\u001b[0;31m---------------------------------------------------------------------------\u001b[0m",
      "\u001b[0;31mNameError\u001b[0m                                 Traceback (most recent call last)",
      "\u001b[0;32m/var/folders/s8/tldg532146lgwzgkdn_frdrh0000gn/T/ipykernel_7959/2312995578.py\u001b[0m in \u001b[0;36m<module>\u001b[0;34m\u001b[0m\n\u001b[0;32m----> 1\u001b[0;31m \u001b[0mplot_example\u001b[0m\u001b[0;34m(\u001b[0m\u001b[0mX_train\u001b[0m\u001b[0;34m,\u001b[0m \u001b[0my_train\u001b[0m\u001b[0;34m)\u001b[0m\u001b[0;34m\u001b[0m\u001b[0;34m\u001b[0m\u001b[0m\n\u001b[0m",
      "\u001b[0;31mNameError\u001b[0m: name 'X_train' is not defined"
     ]
    }
   ],
   "source": [
    "plot_example(X_train, y_train)"
   ]
  },
  {
   "cell_type": "markdown",
   "metadata": {
    "id": "vEeBqe-UUtRo"
   },
   "source": [
    "## Building the base neural network\n",
    "\n",
    "In this section we will specify the structure of our neural network which we will use for the rest of our analysis.\n",
    "\n",
    "It will be a fully connected neural network with one hidden layer. Input layer has 784 dimensions (28x28), hidden layer has 98 (= 784 / 8) and output layer 10 neurons, representing digits 0 - 9."
   ]
  },
  {
   "cell_type": "code",
   "execution_count": 13,
   "metadata": {
    "id": "z9L_aDN3UtRo"
   },
   "outputs": [],
   "source": [
    "import torch\n",
    "from torch import nn\n",
    "import torch.nn.functional as F\n",
    "device = 'cpu'"
   ]
  },
  {
   "cell_type": "code",
   "execution_count": 26,
   "metadata": {
    "id": "ASgzkxgcUtRp"
   },
   "outputs": [],
   "source": [
    "mnist_dim = X.shape[1]\n",
    "hidden_dim = int(mnist_dim/8)\n",
    "output_dim = len(np.unique(mnist.target))"
   ]
  },
  {
   "cell_type": "code",
   "execution_count": 27,
   "metadata": {
    "colab": {
     "base_uri": "https://localhost:8080/"
    },
    "id": "EJ8Eyub1UtRp",
    "outputId": "ab41b4f4-46ee-4cdf-c66c-07ddb1f8c0ea"
   },
   "outputs": [
    {
     "data": {
      "text/plain": [
       "(784, 98, 10)"
      ]
     },
     "execution_count": 27,
     "metadata": {
      "tags": []
     },
     "output_type": "execute_result"
    }
   ],
   "source": [
    "mnist_dim, hidden_dim, output_dim"
   ]
  },
  {
   "cell_type": "markdown",
   "metadata": {
    "id": "ae6zhWLjUtRp"
   },
   "source": [
    "A Neural network in PyTorch's framework."
   ]
  },
  {
   "cell_type": "code",
   "execution_count": 28,
   "metadata": {
    "id": "gfTHSX9kUtRp"
   },
   "outputs": [],
   "source": [
    "class ClassifierModule(nn.Module):\n",
    "    def __init__(\n",
    "            self,\n",
    "            input_dim=mnist_dim,\n",
    "            hidden_dim=hidden_dim,\n",
    "            output_dim=output_dim,\n",
    "            dropout=0.5,\n",
    "    ):\n",
    "        super(ClassifierModule, self).__init__()\n",
    "        self.dropout = nn.Dropout(dropout) # randomly zero some of the elements of the input tensor with probability assigned by variable dropout using samples from a Bernoulli distribution\n",
    "\n",
    "        self.hidden = nn.Linear(input_dim, hidden_dim)\n",
    "        self.output = nn.Linear(hidden_dim, output_dim)\n",
    "\n",
    "    def forward(self, X, **kwargs):\n",
    "        X = F.relu(self.hidden(X))\n",
    "        X = self.dropout(X)\n",
    "        X = F.softmax(self.output(X), dim=-1) # dim -1 means apply to last dimension of tensor X which in this case is dim=1 which will calculate softmax for each sample\n",
    "        return X"
   ]
  },
  {
   "cell_type": "markdown",
   "metadata": {
    "id": "Z64uSqi8UtRp"
   },
   "source": [
    "skorch allows to use PyTorch's networks in the SciKit-Learn setting. To use it we will wrap our above neural network in a NeuralNetClassifier object, and specify the accompanying parameters for it."
   ]
  },
  {
   "cell_type": "code",
   "execution_count": 29,
   "metadata": {
    "id": "iwJx-3h6UtRp"
   },
   "outputs": [],
   "source": [
    "from skorch import NeuralNetClassifier"
   ]
  },
  {
   "cell_type": "code",
   "execution_count": 32,
   "metadata": {
    "id": "52TG6WNkUtRq"
   },
   "outputs": [],
   "source": [
    "torch.manual_seed(0)\n",
    "\n",
    "net = NeuralNetClassifier(\n",
    "    ClassifierModule,\n",
    "    max_epochs=20,\n",
    "    lr=0.1,\n",
    "    device=device,\n",
    ")"
   ]
  },
  {
   "cell_type": "markdown",
   "metadata": {},
   "source": [
    "To run our model, you only need to call its fit function"
   ]
  },
  {
   "cell_type": "code",
   "execution_count": 33,
   "metadata": {
    "colab": {
     "base_uri": "https://localhost:8080/"
    },
    "id": "QCVibAbbUtRq",
    "outputId": "270616c6-4000-4d5f-9bea-d665016a1b63"
   },
   "outputs": [
    {
     "name": "stdout",
     "output_type": "stream",
     "text": [
      "  epoch    train_loss    valid_acc    valid_loss     dur\n",
      "-------  ------------  -----------  ------------  ------\n",
      "      1        \u001b[36m0.8338\u001b[0m       \u001b[32m0.8873\u001b[0m        \u001b[35m0.3970\u001b[0m  1.1830\n",
      "      2        \u001b[36m0.4317\u001b[0m       \u001b[32m0.9103\u001b[0m        \u001b[35m0.3152\u001b[0m  1.1369\n",
      "      3        \u001b[36m0.3663\u001b[0m       \u001b[32m0.9191\u001b[0m        \u001b[35m0.2756\u001b[0m  1.1691\n",
      "      4        \u001b[36m0.3213\u001b[0m       \u001b[32m0.9332\u001b[0m        \u001b[35m0.2321\u001b[0m  1.1735\n",
      "      5        \u001b[36m0.2916\u001b[0m       \u001b[32m0.9371\u001b[0m        \u001b[35m0.2106\u001b[0m  1.1439\n",
      "      6        \u001b[36m0.2727\u001b[0m       \u001b[32m0.9430\u001b[0m        \u001b[35m0.1965\u001b[0m  1.1516\n",
      "      7        \u001b[36m0.2591\u001b[0m       \u001b[32m0.9458\u001b[0m        \u001b[35m0.1859\u001b[0m  1.2226\n",
      "      8        \u001b[36m0.2440\u001b[0m       \u001b[32m0.9489\u001b[0m        \u001b[35m0.1767\u001b[0m  1.1384\n",
      "      9        \u001b[36m0.2311\u001b[0m       \u001b[32m0.9497\u001b[0m        \u001b[35m0.1708\u001b[0m  1.1570\n",
      "     10        \u001b[36m0.2230\u001b[0m       \u001b[32m0.9551\u001b[0m        \u001b[35m0.1581\u001b[0m  1.1791\n",
      "     11        \u001b[36m0.2158\u001b[0m       \u001b[32m0.9559\u001b[0m        \u001b[35m0.1537\u001b[0m  1.1394\n",
      "     12        \u001b[36m0.2038\u001b[0m       \u001b[32m0.9571\u001b[0m        \u001b[35m0.1473\u001b[0m  1.1372\n",
      "     13        \u001b[36m0.2006\u001b[0m       0.9568        \u001b[35m0.1450\u001b[0m  1.1432\n",
      "     14        \u001b[36m0.1962\u001b[0m       \u001b[32m0.9590\u001b[0m        \u001b[35m0.1405\u001b[0m  1.1545\n",
      "     15        \u001b[36m0.1913\u001b[0m       \u001b[32m0.9595\u001b[0m        \u001b[35m0.1386\u001b[0m  1.1892\n",
      "     16        \u001b[36m0.1844\u001b[0m       \u001b[32m0.9600\u001b[0m        \u001b[35m0.1349\u001b[0m  1.1550\n",
      "     17        \u001b[36m0.1835\u001b[0m       \u001b[32m0.9616\u001b[0m        \u001b[35m0.1292\u001b[0m  1.1384\n",
      "     18        \u001b[36m0.1784\u001b[0m       0.9609        0.1295  1.1524\n",
      "     19        \u001b[36m0.1748\u001b[0m       0.9614        \u001b[35m0.1269\u001b[0m  1.1765\n",
      "     20        \u001b[36m0.1711\u001b[0m       \u001b[32m0.9632\u001b[0m        \u001b[35m0.1260\u001b[0m  1.2397\n"
     ]
    }
   ],
   "source": [
    "net.fit(X_train, y_train);"
   ]
  },
  {
   "cell_type": "markdown",
   "metadata": {
    "id": "MWxdGq9BUtRq"
   },
   "source": [
    "## Prediction"
   ]
  },
  {
   "cell_type": "markdown",
   "metadata": {},
   "source": [
    "To evaluate our model we inspect its performance on the test dataset."
   ]
  },
  {
   "cell_type": "code",
   "execution_count": 34,
   "metadata": {
    "id": "xyY8xCc1UtRq"
   },
   "outputs": [],
   "source": [
    "from sklearn.metrics import accuracy_score"
   ]
  },
  {
   "cell_type": "code",
   "execution_count": 35,
   "metadata": {
    "id": "RsKGg1u9UtRq"
   },
   "outputs": [],
   "source": [
    "y_pred = net.predict(X_test)"
   ]
  },
  {
   "cell_type": "code",
   "execution_count": 36,
   "metadata": {
    "colab": {
     "base_uri": "https://localhost:8080/"
    },
    "id": "IOqPVbe6UtRq",
    "outputId": "b08de17f-b5c1-4638-90e1-f5088e276d0a"
   },
   "outputs": [
    {
     "data": {
      "text/plain": [
       "0.9622285714285714"
      ]
     },
     "execution_count": 36,
     "metadata": {
      "tags": []
     },
     "output_type": "execute_result"
    }
   ],
   "source": [
    "accuracy_score(y_test, y_pred)"
   ]
  },
  {
   "cell_type": "markdown",
   "metadata": {
    "id": "FyTF41JjUtRq"
   },
   "source": [
    "An accuracy of about 96% for a network with only one hidden layer is not too bad.\n",
    "\n",
    "Let's take a look at some predictions that went wrong:"
   ]
  },
  {
   "cell_type": "code",
   "execution_count": 37,
   "metadata": {
    "id": "TxXM4UwOUtRr"
   },
   "outputs": [],
   "source": [
    "error_mask = y_pred != y_test"
   ]
  },
  {
   "cell_type": "code",
   "execution_count": 38,
   "metadata": {
    "colab": {
     "base_uri": "https://localhost:8080/",
     "height": 108
    },
    "id": "Rz84g4RqUtRr",
    "outputId": "8c452d13-fd91-4f8a-d4b1-f010dcde725f"
   },
   "outputs": [
    {
     "data": {
      "image/png": "[encoded data removed]",
      "text/plain": [
       "<Figure size 432x288 with 5 Axes>"
      ]
     },
     "metadata": {
      "tags": []
     },
     "output_type": "display_data"
    }
   ],
   "source": [
    "plot_example(X_test[error_mask], y_pred[error_mask])"
   ]
  },
  {
   "cell_type": "markdown",
   "metadata": {},
   "source": [
    "## Questions:\n",
    "\n",
    "Use the skorch library to investigate the impact on performance on the above neural network when changing the following parameters:\n",
    "\n",
    "- Early stopping criterion\n",
    "- Weight decay\n",
    "- Momentum\n",
    "\n",
    "Also, use the skorch library to carry out cross validation on the above neural network."
   ]
  },
  {
   "cell_type": "code",
   "execution_count": null,
   "metadata": {},
   "outputs": [],
   "source": []
  }
 ],
 "metadata": {
  "colab": {
   "name": "MNIST.ipynb",
   "provenance": []
  },
  "kernelspec": {
   "display_name": "Python 3 (ipykernel)",
   "language": "python",
   "name": "python3"
  },
  "language_info": {
   "codemirror_mode": {
    "name": "ipython",
    "version": 3
   },
   "file_extension": ".py",
   "mimetype": "text/x-python",
   "name": "python",
   "nbconvert_exporter": "python",
   "pygments_lexer": "ipython3",
   "version": "3.8.11"
  }
 },
 "nbformat": 4,
 "nbformat_minor": 1
}
