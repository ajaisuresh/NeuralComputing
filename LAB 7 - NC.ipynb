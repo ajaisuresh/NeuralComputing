{
 "cells": [
  {
   "cell_type": "markdown",
   "metadata": {},
   "source": [
    "# Self Organising Maps"
   ]
  },
  {
   "cell_type": "markdown",
   "metadata": {},
   "source": [
    "To demonstrate the usage of self organising maps (SOM), in this tutorial we will first implement a self-contained implementation of a general SOM model. We will then apply this model to the classical fashion MNIST dataset"
   ]
  },
  {
   "cell_type": "markdown",
   "metadata": {},
   "source": [
    "The first exercise involves filling in the four missing lines of code in the *forward* and *self_organizing* functions in our implementation of SOM below. You might find it useful to refer back to the lecture slides where the details of the competition and co-operation process of SOM is outlined."
   ]
  },
  {
   "cell_type": "code",
   "execution_count": 8,
   "metadata": {},
   "outputs": [],
   "source": [
    "# Adapted with modification from:\n",
    "# https://github.com/Dotori-HJ/SelfOrganizingMap-SOM\n",
    "\n",
    "import torch\n",
    "import torch.nn as nn\n",
    "from torchvision.utils import save_image\n",
    "\n",
    "class SOM(nn.Module):\n",
    "    def __init__(self, input_size, out_size=(10, 10), lr=0.3, sigma=None):\n",
    "        '''\n",
    "        :param input_size:\n",
    "        :param out_size:\n",
    "        :param lr:\n",
    "        :param sigma:\n",
    "        '''\n",
    "        super(SOM, self).__init__()\n",
    "        self.input_size = input_size\n",
    "        self.out_size = out_size\n",
    "\n",
    "        self.lr = lr\n",
    "        if sigma is None:\n",
    "            self.sigma = max(out_size) / 2\n",
    "        else:\n",
    "            self.sigma = float(sigma)\n",
    "\n",
    "        self.weight = nn.Parameter(torch.randn(input_size, out_size[0] * out_size[1]), requires_grad=False)\n",
    "        self.locations = nn.Parameter(torch.Tensor(list(self.get_map_index())), requires_grad=False)\n",
    "        self.pdist_fn = nn.PairwiseDistance(p=2)\n",
    "\n",
    "    def get_map_index(self):\n",
    "        '''Two-dimensional mapping function'''\n",
    "        for x in range(self.out_size[0]):\n",
    "            for y in range(self.out_size[1]):\n",
    "                yield (x, y)\n",
    "\n",
    "    def _neighborhood_fn(self, input, current_sigma):\n",
    "        '''e^(-(input / sigma^2))'''\n",
    "        input.div_(current_sigma ** 2)\n",
    "        input.neg_()\n",
    "        input.exp_()\n",
    "\n",
    "        return input\n",
    "\n",
    "    def forward(self, input):\n",
    "        '''\n",
    "        Find the location of best matching unit.\n",
    "        :param input: data\n",
    "        :return: location of best matching unit, loss\n",
    "        '''\n",
    "        batch_size = input.size()[0]\n",
    "        input = input.view(batch_size, -1, 1)\n",
    "        batch_weight = self.weight.expand(batch_size, -1, -1)\n",
    "        batch_weight_trans = torch.transpose(batch_weight, 1, 2)\n",
    "        input_trans = torch.transpose(input, 1, 2)\n",
    "\n",
    "        dists = torch.cdist(batch_weight_trans, input_trans, p=2)\n",
    "        dists = torch.squeeze(dists)\n",
    "        \n",
    "\n",
    "#       dists = self.pdist_fn(input, batch_weight_trans)\n",
    "        \n",
    "        # Find best matching unit\n",
    "        losses, bmu_indexes = dists.min(dim=1, keepdim=True)\n",
    "        bmu_locations = self.locations[bmu_indexes]\n",
    "\n",
    "        return bmu_locations, losses.sum().div_(batch_size).item()\n",
    "\n",
    "    def self_organizing(self, input, current_iter, max_iter):\n",
    "        '''\n",
    "        Train the Self Oranizing Map(SOM)\n",
    "        :param input: training data\n",
    "        :param current_iter: current epoch of total epoch\n",
    "        :param max_iter: total epoch\n",
    "        :return: loss (minimum distance)\n",
    "        '''\n",
    "        batch_size = input.size()[0]\n",
    "        #Set learning rate\n",
    "        iter_correction = 1.0 - current_iter / max_iter\n",
    "        lr = self.lr * iter_correction\n",
    "        sigma = self.sigma * iter_correction\n",
    "\n",
    "        #Find best matching unit\n",
    "        bmu_locations, loss = self.forward(input)\n",
    "        \n",
    "\n",
    "        distance_squares = self.locations.float() - bmu_locations.float()\n",
    "        distance_squares.pow_(2)\n",
    "        distance_squares = torch.sum(distance_squares, dim=2)\n",
    "\n",
    "        lr_locations = self._neighborhood_fn(distance_squares, sigma)\n",
    "        lr_locations.mul_(lr).unsqueeze_(1)\n",
    "\n",
    "        delta = lr_locations * (input.unsqueeze(2) - self.weight)\n",
    "        delta = delta.sum(dim=0)\n",
    "        delta.div_(batch_size)\n",
    "        self.weight.data.add_(delta)\n",
    "\n",
    "        return loss\n",
    "\n",
    "    def save_result(self, dir, im_size=(0, 0, 0)):\n",
    "        '''\n",
    "        Visualizes the weight of the Self Oranizing Map(SOM)\n",
    "        :param dir: directory to save\n",
    "        :param im_size: (channels, size x, size y)\n",
    "        :return:\n",
    "        '''\n",
    "        images = self.weight.view(im_size[0], im_size[1], im_size[2], self.out_size[0] * self.out_size[1])\n",
    "\n",
    "        images = images.permute(3, 0, 1, 2)\n",
    "        save_image(images, dir, normalize=True, padding=1, nrow=self.out_size[0])"
   ]
  },
  {
   "cell_type": "markdown",
   "metadata": {},
   "source": [
    "Now let's apply our above model to the fashion MNIST dataset"
   ]
  },
  {
   "cell_type": "code",
   "execution_count": 9,
   "metadata": {},
   "outputs": [],
   "source": [
    "import torchvision.datasets as datasets\n",
    "import torchvision.transforms as transforms\n",
    "from torch.utils.data.dataloader import DataLoader\n",
    "import os\n",
    "import time\n",
    "import torch\n",
    "import argparse\n",
    "import matplotlib.pyplot as plt"
   ]
  },
  {
   "cell_type": "code",
   "execution_count": 10,
   "metadata": {},
   "outputs": [],
   "source": [
    "batch_size = 32\n",
    "total_epoch = 100\n",
    "row = 20\n",
    "col = 20\n",
    "transform = transforms.Compose( [transforms.ToTensor()])"
   ]
  },
  {
   "cell_type": "code",
   "execution_count": 11,
   "metadata": {},
   "outputs": [],
   "source": [
    "train_data = datasets.FashionMNIST('.', train=True, download=True, transform=transform)\n",
    "train_loader = DataLoader(train_data, batch_size=batch_size, shuffle=True)"
   ]
  },
  {
   "cell_type": "code",
   "execution_count": 12,
   "metadata": {},
   "outputs": [],
   "source": [
    "train_data.data = train_data.train_data[:5000]\n",
    "train_data.targets = train_data.train_labels[:5000]"
   ]
  },
  {
   "cell_type": "code",
   "execution_count": 13,
   "metadata": {},
   "outputs": [],
   "source": [
    "device = torch.device('cpu')\n",
    "som = SOM(input_size=28 * 28 * 1, out_size=(row, col))\n",
    "som = som.to(device)"
   ]
  },
  {
   "cell_type": "code",
   "execution_count": null,
   "metadata": {},
   "outputs": [],
   "source": [
    "losses = list()\n",
    "for epoch in range(total_epoch):\n",
    "    running_loss = 0\n",
    "    start_time = time.time()\n",
    "    for idx, (X, Y) in enumerate(train_loader):\n",
    "        X = X.view(-1, 28 * 28 * 1).to(device)    # flatten\n",
    "        loss = som.self_organizing(X, epoch, total_epoch)    # train som\n",
    "        running_loss += loss\n",
    "\n",
    "        losses.append(running_loss)\n",
    "        print('epoch = %d, loss = %.2f, time = %.2fs' % (epoch + 1, running_loss, time.time() - start_time))\n",
    "\n",
    "\n",
    "plt.title('SOM loss')\n",
    "plt.plot(losses)\n",
    "plt.show()"
   ]
  },
  {
   "cell_type": "code",
   "execution_count": 35,
   "metadata": {},
   "outputs": [],
   "source": [
    "som.save_result('./som_result.png', (1, 28, 28))\n",
    "torch.save(som.state_dict(), './som.pth')"
   ]
  },
  {
   "cell_type": "markdown",
   "metadata": {},
   "source": [
    "<img src=\"som_result.png\">"
   ]
  },
  {
   "cell_type": "markdown",
   "metadata": {},
   "source": [
    "# Support Vector Machines"
   ]
  },
  {
   "cell_type": "markdown",
   "metadata": {},
   "source": [
    "In this section we will implement a SVM model for the classical iris dataset. We will be utilising the svm feature from the sklearn library."
   ]
  },
  {
   "cell_type": "code",
   "execution_count": 37,
   "metadata": {},
   "outputs": [],
   "source": [
    "import pandas as pd\n",
    "import matplotlib.pyplot as plt\n",
    "import seaborn as sns"
   ]
  },
  {
   "cell_type": "code",
   "execution_count": 38,
   "metadata": {},
   "outputs": [
    {
     "data": {
      "text/html": [
       "<div>\n",
       "<style scoped>\n",
       "    .dataframe tbody tr th:only-of-type {\n",
       "        vertical-align: middle;\n",
       "    }\n",
       "\n",
       "    .dataframe tbody tr th {\n",
       "        vertical-align: top;\n",
       "    }\n",
       "\n",
       "    .dataframe thead th {\n",
       "        text-align: right;\n",
       "    }\n",
       "</style>\n",
       "<table border=\"1\" class=\"dataframe\">\n",
       "  <thead>\n",
       "    <tr style=\"text-align: right;\">\n",
       "      <th></th>\n",
       "      <th>sepal_length_in_cm</th>\n",
       "      <th>sepal_width_in_cm</th>\n",
       "      <th>petal_length_in_cm</th>\n",
       "      <th>petal_width_in_cm</th>\n",
       "      <th>class</th>\n",
       "    </tr>\n",
       "  </thead>\n",
       "  <tbody>\n",
       "    <tr>\n",
       "      <th>0</th>\n",
       "      <td>5.1</td>\n",
       "      <td>3.5</td>\n",
       "      <td>1.4</td>\n",
       "      <td>0.2</td>\n",
       "      <td>Iris-setosa</td>\n",
       "    </tr>\n",
       "    <tr>\n",
       "      <th>1</th>\n",
       "      <td>4.9</td>\n",
       "      <td>3.0</td>\n",
       "      <td>1.4</td>\n",
       "      <td>0.2</td>\n",
       "      <td>Iris-setosa</td>\n",
       "    </tr>\n",
       "    <tr>\n",
       "      <th>2</th>\n",
       "      <td>4.7</td>\n",
       "      <td>3.2</td>\n",
       "      <td>1.3</td>\n",
       "      <td>0.2</td>\n",
       "      <td>Iris-setosa</td>\n",
       "    </tr>\n",
       "    <tr>\n",
       "      <th>3</th>\n",
       "      <td>4.6</td>\n",
       "      <td>3.1</td>\n",
       "      <td>1.5</td>\n",
       "      <td>0.2</td>\n",
       "      <td>Iris-setosa</td>\n",
       "    </tr>\n",
       "    <tr>\n",
       "      <th>4</th>\n",
       "      <td>5.0</td>\n",
       "      <td>3.6</td>\n",
       "      <td>1.4</td>\n",
       "      <td>0.2</td>\n",
       "      <td>Iris-setosa</td>\n",
       "    </tr>\n",
       "  </tbody>\n",
       "</table>\n",
       "</div>"
      ],
      "text/plain": [
       "   sepal_length_in_cm  sepal_width_in_cm  petal_length_in_cm  \\\n",
       "0                 5.1                3.5                 1.4   \n",
       "1                 4.9                3.0                 1.4   \n",
       "2                 4.7                3.2                 1.3   \n",
       "3                 4.6                3.1                 1.5   \n",
       "4                 5.0                3.6                 1.4   \n",
       "\n",
       "   petal_width_in_cm        class  \n",
       "0                0.2  Iris-setosa  \n",
       "1                0.2  Iris-setosa  \n",
       "2                0.2  Iris-setosa  \n",
       "3                0.2  Iris-setosa  \n",
       "4                0.2  Iris-setosa  "
      ]
     },
     "execution_count": 38,
     "metadata": {},
     "output_type": "execute_result"
    }
   ],
   "source": [
    "colnames=[\"sepal_length_in_cm\", \"sepal_width_in_cm\",\"petal_length_in_cm\",\"petal_width_in_cm\", \"class\"]\n",
    "\n",
    "#Read the dataset\n",
    "dataset = pd.read_csv(\"https://archive.ics.uci.edu/ml/machine-learning-databases/iris/iris.data\", header = None, names= colnames )\n",
    "\n",
    "#Data\n",
    "dataset.head()"
   ]
  },
  {
   "cell_type": "code",
   "execution_count": 39,
   "metadata": {},
   "outputs": [
    {
     "data": {
      "text/html": [
       "<div>\n",
       "<style scoped>\n",
       "    .dataframe tbody tr th:only-of-type {\n",
       "        vertical-align: middle;\n",
       "    }\n",
       "\n",
       "    .dataframe tbody tr th {\n",
       "        vertical-align: top;\n",
       "    }\n",
       "\n",
       "    .dataframe thead th {\n",
       "        text-align: right;\n",
       "    }\n",
       "</style>\n",
       "<table border=\"1\" class=\"dataframe\">\n",
       "  <thead>\n",
       "    <tr style=\"text-align: right;\">\n",
       "      <th></th>\n",
       "      <th>sepal_length_in_cm</th>\n",
       "      <th>sepal_width_in_cm</th>\n",
       "      <th>petal_length_in_cm</th>\n",
       "      <th>petal_width_in_cm</th>\n",
       "      <th>class</th>\n",
       "    </tr>\n",
       "  </thead>\n",
       "  <tbody>\n",
       "    <tr>\n",
       "      <th>0</th>\n",
       "      <td>5.1</td>\n",
       "      <td>3.5</td>\n",
       "      <td>1.4</td>\n",
       "      <td>0.2</td>\n",
       "      <td>1</td>\n",
       "    </tr>\n",
       "    <tr>\n",
       "      <th>1</th>\n",
       "      <td>4.9</td>\n",
       "      <td>3.0</td>\n",
       "      <td>1.4</td>\n",
       "      <td>0.2</td>\n",
       "      <td>1</td>\n",
       "    </tr>\n",
       "    <tr>\n",
       "      <th>2</th>\n",
       "      <td>4.7</td>\n",
       "      <td>3.2</td>\n",
       "      <td>1.3</td>\n",
       "      <td>0.2</td>\n",
       "      <td>1</td>\n",
       "    </tr>\n",
       "    <tr>\n",
       "      <th>3</th>\n",
       "      <td>4.6</td>\n",
       "      <td>3.1</td>\n",
       "      <td>1.5</td>\n",
       "      <td>0.2</td>\n",
       "      <td>1</td>\n",
       "    </tr>\n",
       "    <tr>\n",
       "      <th>4</th>\n",
       "      <td>5.0</td>\n",
       "      <td>3.6</td>\n",
       "      <td>1.4</td>\n",
       "      <td>0.2</td>\n",
       "      <td>1</td>\n",
       "    </tr>\n",
       "  </tbody>\n",
       "</table>\n",
       "</div>"
      ],
      "text/plain": [
       "   sepal_length_in_cm  sepal_width_in_cm  petal_length_in_cm  \\\n",
       "0                 5.1                3.5                 1.4   \n",
       "1                 4.9                3.0                 1.4   \n",
       "2                 4.7                3.2                 1.3   \n",
       "3                 4.6                3.1                 1.5   \n",
       "4                 5.0                3.6                 1.4   \n",
       "\n",
       "   petal_width_in_cm  class  \n",
       "0                0.2      1  \n",
       "1                0.2      1  \n",
       "2                0.2      1  \n",
       "3                0.2      1  \n",
       "4                0.2      1  "
      ]
     },
     "execution_count": 39,
     "metadata": {},
     "output_type": "execute_result"
    }
   ],
   "source": [
    "#Encoding the categorical column\n",
    "dataset = dataset.replace({\"class\":  {\"Iris-setosa\":1,\"Iris-versicolor\":2, \"Iris-virginica\":3}})\n",
    "#Visualize the new dataset\n",
    "dataset.head()"
   ]
  },
  {
   "cell_type": "code",
   "execution_count": 40,
   "metadata": {},
   "outputs": [
    {
     "data": {
      "text/plain": [
       "Text(0.5, 1.0, 'Correlation On iris Classes')"
      ]
     },
     "execution_count": 40,
     "metadata": {},
     "output_type": "execute_result"
    },
    {
     "data": {
      "image/png": "[encoded data removed]",
      "text/plain": [
       "<Figure size 432x288 with 2 Axes>"
      ]
     },
     "metadata": {
      "needs_background": "light"
     },
     "output_type": "display_data"
    }
   ],
   "source": [
    "plt.figure(1)\n",
    "sns.heatmap(dataset.corr())\n",
    "plt.title('Correlation On iris Classes')"
   ]
  },
  {
   "cell_type": "code",
   "execution_count": 42,
   "metadata": {},
   "outputs": [],
   "source": [
    "X = dataset.iloc[:,:-1]\n",
    "y = dataset.iloc[:, -1].values\n",
    "\n",
    "from sklearn.model_selection import train_test_split\n",
    "X_train, X_test, y_train, y_test = train_test_split(X, y, test_size = 0.25, random_state = 0)"
   ]
  },
  {
   "cell_type": "code",
   "execution_count": 43,
   "metadata": {},
   "outputs": [],
   "source": [
    "#Create the SVM model\n",
    "from sklearn.svm import SVC\n",
    "classifier = SVC(kernel = 'linear', random_state = 0)\n",
    "#Fit the model for the data\n",
    "\n",
    "classifier.fit(X_train, y_train)\n",
    "\n",
    "#Make the prediction\n",
    "y_pred = classifier.predict(X_test)"
   ]
  },
  {
   "cell_type": "code",
   "execution_count": 44,
   "metadata": {},
   "outputs": [
    {
     "name": "stdout",
     "output_type": "stream",
     "text": [
      "[[13  0  0]\n",
      " [ 0 15  1]\n",
      " [ 0  0  9]]\n",
      "Accuracy: 98.18 %\n",
      "Standard Deviation: 3.64 %\n"
     ]
    }
   ],
   "source": [
    "from sklearn.metrics import confusion_matrix\n",
    "cm = confusion_matrix(y_test, y_pred)\n",
    "print(cm)\n",
    "\n",
    "from sklearn.model_selection import cross_val_score\n",
    "accuracies = cross_val_score(estimator = classifier, X = X_train, y = y_train, cv = 10)\n",
    "print(\"Accuracy: {:.2f} %\".format(accuracies.mean()*100))\n",
    "print(\"Standard Deviation: {:.2f} %\".format(accuracies.std()*100))"
   ]
  },
  {
   "cell_type": "markdown",
   "metadata": {},
   "source": [
    "## Exercise\n",
    "1) Write a paragraph providing some critical analysis of your findings from the SOM analysis of the FashionMNIST data. Look to use the theory from last week's lecture to help inform the insight that your provide into your findings.\n",
    "\n",
    "2) Change some of the parameter settings for the Support Vector Classifier (SVC) defined in the lab. Consider changing the type of kernel function used, altering the Regularisation parameter C, altering the Kernel coefficient gamma for example.\n",
    "\n",
    "3) Summarise your findings from changing the hyperparameter settings for your SVC."
   ]
  }
 ],
 "metadata": {
  "kernelspec": {
   "display_name": "Python 3",
   "language": "python",
   "name": "python3"
  },
  "language_info": {
   "codemirror_mode": {
    "name": "ipython",
    "version": 3
   },
   "file_extension": ".py",
   "mimetype": "text/x-python",
   "name": "python",
   "nbconvert_exporter": "python",
   "pygments_lexer": "ipython3",
   "version": "3.7.3"
  }
 },
 "nbformat": 4,
 "nbformat_minor": 4
}
